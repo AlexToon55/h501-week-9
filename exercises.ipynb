{
  "cells": [
    {
      "cell_type": "markdown",
      "id": "5c02d8d7",
      "metadata": {},
      "source": [
        "<font color='darkred'> Unless otherwise noted, **this notebook will not be reviewed or autograded.**</font> You are welcome to use it for scratchwork, but **only the files listed in the exercises will be checked.**\n",
        "\n",
        "---\n",
        "\n",
        "# Exercises\n",
        "\n",
        "For these exercises, add your functions to the *app\\.py* file and the *apputil\\.py* file."
      ]
    },
    {
      "cell_type": "markdown",
      "id": "5a24d634-305e-45c8-8e6e-69102c47ede2",
      "metadata": {
        "id": "5a24d634-305e-45c8-8e6e-69102c47ede2"
      },
      "source": [
        "# Building a basic model\n",
        "\n",
        "We'll build a [Python class](https://pythonbasics.org/class/) called `GroupEstimate` which takes in *categorical* data and corresponding *continuous* values, determines which group a new observation falls into, and \"predicts\" an estimate value based on the data provided."
      ]
    },
    {
      "cell_type": "markdown",
      "id": "877feef4",
      "metadata": {},
      "source": [
        "## Exercise 1\n",
        "\n",
        "### Part 1\n",
        "\n",
        "Define a class `GroupEstimate` that accepts an `estimate` argument, which can be either `\"mean\"` or `\"median\"`.\n",
        "\n",
        "### Part 2\n",
        "\n",
        "Add a `.fit(X, y)` method that takes in a pandas DataFrame of *categorical* data, `X`, and a 1-D array, `y`. Each row of `X` corresponds to the same \"row\" in `y`, so they should be the same length.\n",
        "- Combine `X` and `y` into a shared pandas DataFrame.\n",
        "- Group the DataFrame by the columns in `X`.\n",
        "- For each group, calculate either the mean or median value of `y`, depending on the `estimate` argument.\n",
        "- *Note: Your class should not \"store\" either `X` or `y`, but it might store something smaller ...*\n",
        "\n",
        "### Part 3\n",
        "\n",
        "Add a `.predict(v)` method that takes in an array of observations corresponding to the columns in `X`, determines which group they fall into, and returns the corresponding estimates for `y`.\n",
        "\n",
        "If an incoming category or combination of categories was missing in the original data, return `NaN` for that observation and raise a warning message."
      ]
    },
    {
      "cell_type": "markdown",
      "id": "c031e41b",
      "metadata": {},
      "source": [
        "### Example\n",
        "\n",
        "For example, if we have a dataframe of coffee reviews, and `X` includes two columns: *country* and *roast type*, we might want to predict the average *review score* for a new coffee from a given country and roast type. In this way, we could run:\n",
        "\n",
        "```python\n",
        "X = df[[\"country\", \"roast_type\"]]\n",
        "y = df[\"review_score\"]\n",
        "\n",
        "gm = GroupEstimate(estimate=\"mean\")\n",
        "gm.fit(X, y)\n",
        "gm.predict([[\"Ethiopia\", \"light\"],\n",
        "            [\"Colombia\", \"dark\"],\n",
        "            [\"Brazil\", \"medium\"]])\n",
        "\n",
        ">> [4.5, 3.8, NaN]  # say there are no Brazilian medium roasts\n",
        "```"
      ]
    },
    {
      "cell_type": "markdown",
      "id": "6f05c34e",
      "metadata": {},
      "source": [
        "## Bonus Exercise 2\n",
        "\n",
        "Adjust your `GroupEstimate` class to handle the situation where the combination of categories is missing, but a particular category is not. That is, add to your `.fit` method an optional argument `default_category`. If a combination is missing, the estimate for `y` will be based solely on the group defined by `default_category`.\n",
        "\n",
        "For example, suppose we have the code in the example above, but we replace the fit line with\n",
        "\n",
        "```python\n",
        "# ...\n",
        "gm.fit(X, y, default_cagegory=\"country\")\n",
        "# ...\n",
        "\n",
        ">> [4.5, 3.8, 3.1]\n",
        "```\n",
        "\n",
        "In this case, the missing value in that array would be filled with the average review score for Brazilian roasts.\n",
        "\n",
        "*Hint: consider the `observed` argument of the `groupby` [method](https://pandas.pydata.org/docs/reference/api/pandas.DataFrame.groupby.html), and go from there ...*"
      ]
    }
  ],
  "metadata": {
    "colab": {
      "provenance": []
    },
    "kernelspec": {
      "display_name": "i501 (pip)",
      "language": "python",
      "name": "i501-pip"
    },
    "language_info": {
      "codemirror_mode": {
        "name": "ipython",
        "version": 3
      },
      "file_extension": ".py",
      "mimetype": "text/x-python",
      "name": "python",
      "nbconvert_exporter": "python",
      "pygments_lexer": "ipython3",
      "version": "3.10.13"
    }
  },
  "nbformat": 4,
  "nbformat_minor": 5
}
