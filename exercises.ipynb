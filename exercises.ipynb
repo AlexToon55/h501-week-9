{
  "cells": [
    {
      "cell_type": "markdown",
      "id": "5c02d8d7",
      "metadata": {},
      "source": [
        "<font color='darkred'> Unless otherwise noted, **this notebook will not be reviewed or autograded.**</font> You are welcome to use it for scratchwork, but **only the files listed in the exercises will be checked.**\n",
        "\n",
        "---\n",
        "\n",
        "# Exercises\n",
        "\n",
        "For these exercises, add your functions to the *app\\.py* file and the *apputil\\.py* file."
      ]
    },
    {
      "cell_type": "markdown",
      "id": "5a24d634-305e-45c8-8e6e-69102c47ede2",
      "metadata": {
        "id": "5a24d634-305e-45c8-8e6e-69102c47ede2"
      },
      "source": [
        "# Building a basic model\n",
        "\n",
        "We'll build a [Python class](https://realpython.com/python-classes/#getting-started-with-python-classes) called `GroupEstimate` which takes in *categorical* data and corresponding *continuous* values, determines which group a new observation falls into, and \"predicts\" an estimate value based on the data provided."
      ]
    },
    {
      "cell_type": "markdown",
      "id": "877feef4",
      "metadata": {},
      "source": [
        "## Exercise 1\n",
        "\n",
        "### Part 1\n",
        "\n",
        "Define a class `GroupEstimate` that accepts an `estimate` argument, which can be either `\"mean\"` or `\"median\"`.\n",
        "\n",
        "### Part 2\n",
        "\n",
        "Add a `.fit(X, y)` method that takes in a pandas DataFrame of *categorical* data, `X`, and a 1-D array, `y`. Each row of `X` corresponds to the same \"row\" in `y`, so they should be the same length.\n",
        "- Combine `X` and `y` into a shared pandas DataFrame.\n",
        "- Group the DataFrame by the columns in `X`.\n",
        "- For each group, calculate either the mean or median value of `y`, depending on the `estimate` argument.\n",
        "- *Note: Your class should not \"store\" either `X` or `y`, but it might store something smaller ...*\n",
        "\n",
        "### Part 3\n",
        "\n",
        "Add a `.predict(v)` method that takes in an array of observations corresponding to the columns in `X`, determines which group they fall into, and returns the corresponding estimates for `y`.\n",
        "\n",
        "If an incoming category or combination of categories was missing in the original data, return `NaN` for that observation and raise a warning message."
      ]
    },
    {
      "cell_type": "markdown",
      "id": "c031e41b",
      "metadata": {},
      "source": [
        "### Example\n",
        "\n",
        "For example, if we have a dataframe of coffee reviews, and `X` includes two columns: *country* and *roast type*, we might want to predict the average *review score* for a new coffee from a given country and roast type. In this way, we could run:\n",
        "\n",
        "```python\n",
        "X = df[[\"country\", \"roast_type\"]]\n",
        "y = df[\"review_score\"]\n",
        "\n",
        "gm = GroupEstimate(estimate=\"mean\")\n",
        "gm.fit(X, y)\n",
        "gm.predict([[\"Ethiopia\", \"light\"],\n",
        "            [\"Colombia\", \"dark\"],\n",
        "            [\"Brazil\", \"medium\"]])\n",
        "\n",
        ">> [4.5, 3.8, NaN]  # say there are no Brazilian medium roasts\n",
        "```"
      ]
    },
    {
      "cell_type": "markdown",
      "id": "6f05c34e",
      "metadata": {},
      "source": [
        "## Bonus Exercise 2\n",
        "\n",
        "Adjust your `GroupEstimate` class to handle the situation where the combination of categories is missing, but a particular category is not. That is, add to your `.fit` method an optional argument `default_category`. If a combination is missing, the estimate for `y` will be based solely on the group defined by `default_category`.\n",
        "\n",
        "For example, suppose we have the code in the example above, but we replace the fit line with\n",
        "\n",
        "```python\n",
        "# ...\n",
        "gm.fit(X, y, default_cagegory=\"country\")\n",
        "# ...\n",
        "\n",
        ">> [4.5, 3.8, 3.1]\n",
        "```\n",
        "\n",
        "In this case, the missing value in that array would be filled with the average review score for Brazilian roasts.\n",
        "\n",
        "*Hint: consider the `observed` argument of the `groupby` [method](https://pandas.pydata.org/docs/reference/api/pandas.DataFrame.groupby.html), and go from there ...*"
      ]
    },
    {
      "cell_type": "code",
      "execution_count": null,
      "id": "26a05e49",
      "metadata": {},
      "outputs": [],
      "source": []
    },
    {
      "cell_type": "code",
      "execution_count": null,
      "id": "019f6c8d",
      "metadata": {},
      "outputs": [],
      "source": []
    },
    {
      "cell_type": "code",
      "execution_count": null,
      "id": "d241f14a",
      "metadata": {},
      "outputs": [],
      "source": []
    },
    {
      "cell_type": "markdown",
      "id": "5678b645-3bec-42e4-abb7-798a675ecce7",
      "metadata": {
        "id": "5678b645-3bec-42e4-abb7-798a675ecce7"
      },
      "source": [
        "## Example of a Class\n",
        "\n",
        "To get you started, below is an example of a class."
      ]
    },
    {
      "cell_type": "code",
      "execution_count": null,
      "id": "5697dd13-8a74-44ef-97b0-f42f94edce7a",
      "metadata": {
        "id": "5697dd13-8a74-44ef-97b0-f42f94edce7a",
        "tags": []
      },
      "outputs": [],
      "source": [
        "class Pet(object):\n",
        "    def __init__(self, species, color, name):\n",
        "        self.species = species\n",
        "        self.color = color\n",
        "        self.name = name\n",
        "        self.awake = True\n",
        "\n",
        "    def sleep(self):\n",
        "        self.awake = False\n",
        "\n",
        "    def wake_up(self):\n",
        "        self.awake = True"
      ]
    },
    {
      "cell_type": "code",
      "execution_count": null,
      "id": "29713588-181d-4840-a256-a0c094687bda",
      "metadata": {
        "id": "29713588-181d-4840-a256-a0c094687bda",
        "tags": []
      },
      "outputs": [],
      "source": [
        "dog = Pet('dog', 'black', 'Lyra')"
      ]
    },
    {
      "cell_type": "code",
      "execution_count": null,
      "id": "f7188874-c58b-4845-9f4e-7902677e70a0",
      "metadata": {
        "id": "f7188874-c58b-4845-9f4e-7902677e70a0",
        "outputId": "7626d8ce-d63a-44ce-8cd8-8101d530beec",
        "tags": []
      },
      "outputs": [
        {
          "data": {
            "text/plain": [
              "False"
            ]
          },
          "execution_count": 9,
          "metadata": {},
          "output_type": "execute_result"
        }
      ],
      "source": [
        "dog.sleep()\n",
        "dog.awake"
      ]
    },
    {
      "cell_type": "code",
      "execution_count": null,
      "id": "0e973f74-e212-45e1-896d-8e29a05133b0",
      "metadata": {
        "id": "0e973f74-e212-45e1-896d-8e29a05133b0",
        "outputId": "f5fad4a9-f9e1-49bc-907b-60cce3fbd6a8",
        "tags": []
      },
      "outputs": [
        {
          "data": {
            "text/plain": [
              "True"
            ]
          },
          "execution_count": 10,
          "metadata": {},
          "output_type": "execute_result"
        }
      ],
      "source": [
        "dog.wake_up()\n",
        "dog.awake"
      ]
    },
    {
      "cell_type": "code",
      "execution_count": null,
      "id": "f2be4118-67a4-4f09-8aa7-79ff1da29e4c",
      "metadata": {
        "id": "f2be4118-67a4-4f09-8aa7-79ff1da29e4c"
      },
      "outputs": [],
      "source": []
    }
  ],
  "metadata": {
    "colab": {
      "provenance": []
    },
    "kernelspec": {
      "display_name": "i501 (pip)",
      "language": "python",
      "name": "i501-pip"
    },
    "language_info": {
      "codemirror_mode": {
        "name": "ipython",
        "version": 3
      },
      "file_extension": ".py",
      "mimetype": "text/x-python",
      "name": "python",
      "nbconvert_exporter": "python",
      "pygments_lexer": "ipython3",
      "version": "3.10.13"
    }
  },
  "nbformat": 4,
  "nbformat_minor": 5
}
